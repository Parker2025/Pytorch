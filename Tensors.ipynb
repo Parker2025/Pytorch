{
 "cells": [
  {
   "cell_type": "markdown",
   "id": "d4bef0a1-0343-46cd-8e3d-baa0c30ee88d",
   "metadata": {},
   "source": [
    "Some Basic examples of Tensors in Pytorch"
   ]
  },
  {
   "cell_type": "code",
   "execution_count": 29,
   "id": "425b5728-c20e-4475-98d9-67dbd594d0b2",
   "metadata": {},
   "outputs": [],
   "source": [
    "import torch\n",
    "import numpy as np"
   ]
  },
  {
   "cell_type": "markdown",
   "id": "2cdb31eb-822c-4ac2-a88d-1828a56ba2db",
   "metadata": {},
   "source": [
    "Example of a basic Tensor:"
   ]
  },
  {
   "cell_type": "code",
   "execution_count": 33,
   "id": "30ae0f81-e14f-48d6-96ff-9cbed7ee09c2",
   "metadata": {},
   "outputs": [],
   "source": [
    "data = [[1, 2], [3, 4],[5,6],[8,10]]\n",
    "x_data = torch.tensor(data)"
   ]
  },
  {
   "cell_type": "code",
   "execution_count": 35,
   "id": "902fd46b-49db-4c1c-94ed-4e5a685a154b",
   "metadata": {},
   "outputs": [
    {
     "name": "stdout",
     "output_type": "stream",
     "text": [
      "tensor([[ 1,  2],\n",
      "        [ 3,  4],\n",
      "        [ 5,  6],\n",
      "        [ 8, 10]])\n",
      "torch.Size([4, 2])\n",
      "torch.int64\n"
     ]
    }
   ],
   "source": [
    "print(x_data)\n",
    "print(x_data.shape)\n",
    "print(x_data.dtype)"
   ]
  },
  {
   "cell_type": "markdown",
   "id": "549a7a94-8482-4724-88ac-282e2c1d0e2d",
   "metadata": {},
   "source": [
    "You can create and fill a tensor with random numbers:"
   ]
  },
  {
   "cell_type": "code",
   "execution_count": 37,
   "id": "584eff69-3d3b-42b0-8692-f002de153c52",
   "metadata": {},
   "outputs": [],
   "source": [
    "size = (3,4)"
   ]
  },
  {
   "cell_type": "code",
   "execution_count": 39,
   "id": "675eff33-1c50-4880-b9a8-9d367c0545ab",
   "metadata": {},
   "outputs": [
    {
     "name": "stdout",
     "output_type": "stream",
     "text": [
      "tensor([[0.3583, 0.4989, 0.9984, 0.6779],\n",
      "        [0.5855, 0.7061, 0.3161, 0.7417],\n",
      "        [0.8184, 0.7163, 0.7482, 0.1745]])\n"
     ]
    }
   ],
   "source": [
    "random = torch.rand(size)\n",
    "print(random)"
   ]
  },
  {
   "cell_type": "markdown",
   "id": "59a95b88-08f4-4179-be4b-353fba5f28e6",
   "metadata": {},
   "source": [
    "How to view the characteristics of a tensor:"
   ]
  },
  {
   "cell_type": "code",
   "execution_count": 14,
   "id": "82756f04-57b2-46aa-aa51-22fe8a53c533",
   "metadata": {},
   "outputs": [
    {
     "name": "stdout",
     "output_type": "stream",
     "text": [
      "torch.Size([3, 4])\n",
      "torch.float32\n"
     ]
    }
   ],
   "source": [
    "print(random.shape)\n",
    "print(random.dtype)"
   ]
  },
  {
   "cell_type": "code",
   "execution_count": 41,
   "id": "0a05106c-20ad-442f-a132-68150ac7b5d9",
   "metadata": {},
   "outputs": [
    {
     "name": "stdout",
     "output_type": "stream",
     "text": [
      "tensor([[1., 1., 1., 1.],\n",
      "        [1., 1., 1., 1.],\n",
      "        [1., 1., 1., 1.]])\n"
     ]
    }
   ],
   "source": [
    "onetensor = torch.ones(size)\n",
    "print(onetensor)"
   ]
  },
  {
   "cell_type": "markdown",
   "id": "1ee8226d-f9fe-47db-9c1b-3f59c686f051",
   "metadata": {},
   "source": [
    "You can do arithmetic between tensors +,-,*,/"
   ]
  },
  {
   "cell_type": "code",
   "execution_count": 43,
   "id": "78f3055c-c736-444e-b09b-71f2d7924a63",
   "metadata": {},
   "outputs": [
    {
     "name": "stdout",
     "output_type": "stream",
     "text": [
      "tensor([[1.3583, 1.4989, 1.9984, 1.6779],\n",
      "        [1.5855, 1.7061, 1.3161, 1.7417],\n",
      "        [1.8184, 1.7163, 1.7482, 1.1745]])\n"
     ]
    }
   ],
   "source": [
    "additiontensor = random + onetensor\n",
    "print(additiontensor)"
   ]
  },
  {
   "cell_type": "code",
   "execution_count": 45,
   "id": "2f49949a-f964-4b69-a48e-109182f34193",
   "metadata": {},
   "outputs": [
    {
     "name": "stdout",
     "output_type": "stream",
     "text": [
      "tensor([[2.7908, 2.0042, 1.0016, 1.4751],\n",
      "        [1.7078, 1.4162, 3.1634, 1.3482],\n",
      "        [1.2219, 1.3961, 1.3365, 5.7301]])\n"
     ]
    }
   ],
   "source": [
    "divisiontensor = onetensor / random\n",
    "print(divisiontensor)"
   ]
  },
  {
   "cell_type": "markdown",
   "id": "4135753e-c8c8-42ab-92cb-c9bdfff876b2",
   "metadata": {},
   "source": [
    "You can also look at individual scalars in a Tensor similar to a Numpy array and replace numbers in a tensor."
   ]
  },
  {
   "cell_type": "code",
   "execution_count": 61,
   "id": "509dd245-6b8b-4034-8e6c-5af96e910b97",
   "metadata": {},
   "outputs": [
    {
     "name": "stdout",
     "output_type": "stream",
     "text": [
      "tensor(0.7482)\n"
     ]
    }
   ],
   "source": [
    "indextensor = random\n",
    "index = indextensor[2,2]\n",
    "print(index)\n"
   ]
  },
  {
   "cell_type": "code",
   "execution_count": 63,
   "id": "fd8313f4-8c08-43e9-b370-19b6b9bdbf63",
   "metadata": {},
   "outputs": [
    {
     "name": "stdout",
     "output_type": "stream",
     "text": [
      "tensor([[0.3583, 0.4989, 0.9984, 0.6779],\n",
      "        [0.5855, 0.7061, 0.3161, 0.7417],\n",
      "        [0.8184, 4.7000, 0.7482, 0.1745]])\n"
     ]
    }
   ],
   "source": [
    "indextensor[2,1] = 4.7\n",
    "print(indextensor)"
   ]
  }
 ],
 "metadata": {
  "kernelspec": {
   "display_name": "Python 3 (ipykernel)",
   "language": "python",
   "name": "python3"
  },
  "language_info": {
   "codemirror_mode": {
    "name": "ipython",
    "version": 3
   },
   "file_extension": ".py",
   "mimetype": "text/x-python",
   "name": "python",
   "nbconvert_exporter": "python",
   "pygments_lexer": "ipython3",
   "version": "3.12.7"
  }
 },
 "nbformat": 4,
 "nbformat_minor": 5
}
