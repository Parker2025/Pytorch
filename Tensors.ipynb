{
 "cells": [
  {
   "cell_type": "code",
   "execution_count": 1,
   "id": "425b5728-c20e-4475-98d9-67dbd594d0b2",
   "metadata": {},
   "outputs": [],
   "source": [
    "import torch\n",
    "import numpy as np"
   ]
  },
  {
   "cell_type": "markdown",
   "id": "2cdb31eb-822c-4ac2-a88d-1828a56ba2db",
   "metadata": {},
   "source": [
    "Example of a basic Tensor:"
   ]
  },
  {
   "cell_type": "code",
   "execution_count": 60,
   "id": "30ae0f81-e14f-48d6-96ff-9cbed7ee09c2",
   "metadata": {},
   "outputs": [],
   "source": [
    "data = [[1, 2], [3, 4],[5,6],[8,9]]\n",
    "x_data = torch.tensor(data)"
   ]
  },
  {
   "cell_type": "code",
   "execution_count": 6,
   "id": "902fd46b-49db-4c1c-94ed-4e5a685a154b",
   "metadata": {},
   "outputs": [
    {
     "name": "stdout",
     "output_type": "stream",
     "text": [
      "tensor([[1, 2],\n",
      "        [3, 4],\n",
      "        [5, 6],\n",
      "        [8, 9]])\n"
     ]
    }
   ],
   "source": [
    "print(x_data)"
   ]
  },
  {
   "cell_type": "markdown",
   "id": "549a7a94-8482-4724-88ac-282e2c1d0e2d",
   "metadata": {},
   "source": [
    "You can create and fill a tensor with random numbers:"
   ]
  },
  {
   "cell_type": "code",
   "execution_count": 9,
   "id": "584eff69-3d3b-42b0-8692-f002de153c52",
   "metadata": {},
   "outputs": [],
   "source": [
    "size = (3,4)"
   ]
  },
  {
   "cell_type": "code",
   "execution_count": 94,
   "id": "675eff33-1c50-4880-b9a8-9d367c0545ab",
   "metadata": {},
   "outputs": [
    {
     "name": "stdout",
     "output_type": "stream",
     "text": [
      "tensor([[0.4291, 0.3399, 0.4652, 0.8522],\n",
      "        [0.9181, 0.7763, 0.3119, 0.7246],\n",
      "        [0.1773, 0.9135, 0.2582, 0.1633]])\n"
     ]
    }
   ],
   "source": [
    "random = torch.rand(size)\n",
    "print(random)"
   ]
  },
  {
   "cell_type": "markdown",
   "id": "59a95b88-08f4-4179-be4b-353fba5f28e6",
   "metadata": {},
   "source": [
    "How to view the characteristics of a tensor:"
   ]
  },
  {
   "cell_type": "code",
   "execution_count": 14,
   "id": "82756f04-57b2-46aa-aa51-22fe8a53c533",
   "metadata": {},
   "outputs": [
    {
     "name": "stdout",
     "output_type": "stream",
     "text": [
      "torch.Size([3, 4])\n",
      "torch.float32\n"
     ]
    }
   ],
   "source": [
    "print(random.shape)\n",
    "print(random.dtype)"
   ]
  },
  {
   "cell_type": "code",
   "execution_count": 16,
   "id": "0a05106c-20ad-442f-a132-68150ac7b5d9",
   "metadata": {},
   "outputs": [
    {
     "name": "stdout",
     "output_type": "stream",
     "text": [
      "tensor([[1., 1., 1., 1.],\n",
      "        [1., 1., 1., 1.],\n",
      "        [1., 1., 1., 1.]])\n"
     ]
    }
   ],
   "source": [
    "onetensor = torch.ones(size)\n",
    "print(onetensor)"
   ]
  },
  {
   "cell_type": "markdown",
   "id": "1ee8226d-f9fe-47db-9c1b-3f59c686f051",
   "metadata": {},
   "source": [
    "You can do arthrematic between tensors +,-,*,/"
   ]
  },
  {
   "cell_type": "code",
   "execution_count": 19,
   "id": "78f3055c-c736-444e-b09b-71f2d7924a63",
   "metadata": {},
   "outputs": [
    {
     "name": "stdout",
     "output_type": "stream",
     "text": [
      "tensor([[1.2367, 1.8027, 1.7034, 1.7173],\n",
      "        [1.5605, 1.8436, 1.0814, 1.9874],\n",
      "        [1.7924, 1.1293, 1.8034, 1.6534]])\n"
     ]
    }
   ],
   "source": [
    "additiontensor = random + onetensor\n",
    "print(additiontensor)"
   ]
  },
  {
   "cell_type": "code",
   "execution_count": 21,
   "id": "2f49949a-f964-4b69-a48e-109182f34193",
   "metadata": {},
   "outputs": [
    {
     "name": "stdout",
     "output_type": "stream",
     "text": [
      "tensor([[ 4.2252,  1.2458,  1.4217,  1.3940],\n",
      "        [ 1.7841,  1.1854, 12.2829,  1.0127],\n",
      "        [ 1.2619,  7.7318,  1.2448,  1.5304]])\n"
     ]
    }
   ],
   "source": [
    "divisiontensor = onetensor / random\n",
    "print(divisiontensor)"
   ]
  },
  {
   "cell_type": "code",
   "execution_count": null,
   "id": "1bde1096-fdea-40aa-91af-eb2e1f879fb5",
   "metadata": {},
   "outputs": [],
   "source": []
  },
  {
   "cell_type": "markdown",
   "id": "4135753e-c8c8-42ab-92cb-c9bdfff876b2",
   "metadata": {},
   "source": [
    "You can also look at individual scalars in a Tensor similar to a Numpy array and replace numbers in an tensor"
   ]
  },
  {
   "cell_type": "code",
   "execution_count": 96,
   "id": "509dd245-6b8b-4034-8e6c-5af96e910b97",
   "metadata": {},
   "outputs": [
    {
     "name": "stdout",
     "output_type": "stream",
     "text": [
      "tensor(0.9135)\n"
     ]
    }
   ],
   "source": [
    "indextensor = random\n",
    "index = indextensor[2,1]\n",
    "print(index)\n"
   ]
  },
  {
   "cell_type": "code",
   "execution_count": 98,
   "id": "fd8313f4-8c08-43e9-b370-19b6b9bdbf63",
   "metadata": {},
   "outputs": [
    {
     "name": "stdout",
     "output_type": "stream",
     "text": [
      "tensor([[0.4291, 0.3399, 0.4652, 0.8522],\n",
      "        [0.9181, 0.7763, 0.3119, 0.7246],\n",
      "        [0.1773, 4.7000, 0.2582, 0.1633]])\n"
     ]
    }
   ],
   "source": [
    "indextensor[2,1] = 4.7\n",
    "print(indextensor)"
   ]
  },
  {
   "cell_type": "code",
   "execution_count": null,
   "id": "19d95d4a-e729-4d1c-b379-260a5b2bfeca",
   "metadata": {},
   "outputs": [],
   "source": []
  }
 ],
 "metadata": {
  "kernelspec": {
   "display_name": "Python 3 (ipykernel)",
   "language": "python",
   "name": "python3"
  },
  "language_info": {
   "codemirror_mode": {
    "name": "ipython",
    "version": 3
   },
   "file_extension": ".py",
   "mimetype": "text/x-python",
   "name": "python",
   "nbconvert_exporter": "python",
   "pygments_lexer": "ipython3",
   "version": "3.12.7"
  }
 },
 "nbformat": 4,
 "nbformat_minor": 5
}
