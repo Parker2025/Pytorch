{
 "cells": [
  {
   "cell_type": "markdown",
   "id": "35e62e17-24a0-4b29-b577-6f0636b85143",
   "metadata": {},
   "source": [
    "First we will download the dataset from torchvision.  SVHN is a dataset which stands for Street View House Numbers\n",
    " * We also need to import some additional libraries, torch.nn is the nueral network.\n",
    " * transforms is what transforms the picture into data and then we can use that data to import into a tensor\n",
    " * DataLoader is what allows us to import the data."
   ]
  },
  {
   "cell_type": "code",
   "execution_count": 1,
   "id": "df2894c0-3a8d-471c-9ab7-191fadc38302",
   "metadata": {},
   "outputs": [],
   "source": [
    "from torchvision.datasets import SVHN\n",
    "import torch\n",
    "import numpy as np\n",
    "from torchvision import transforms\n",
    "from torch.utils.data import DataLoader\n",
    "import torch.nn\n",
    "import torch.optim as optim\n",
    "import matplotlib.pyplot as plt\n"
   ]
  },
  {
   "cell_type": "markdown",
   "id": "6bd38a03-0f8d-4af5-8a87-57c79e5047cc",
   "metadata": {},
   "source": [
    "First we will preprocess the data:\n",
    "* First we transform the data into a tensor, while normalizing the type of data that we will have\n",
    "* Second step is setting up a training dataset and test dataset\n",
    "  "
   ]
  },
  {
   "cell_type": "code",
   "execution_count": 3,
   "id": "a25dde75-5197-4654-b42d-c3e30e3d0f9d",
   "metadata": {},
   "outputs": [],
   "source": [
    "normalizesvhn = transforms.Compose([transforms.ToTensor(),transforms.Normalize(mean = [.5], std = [.5])])"
   ]
  },
  {
   "cell_type": "code",
   "execution_count": 5,
   "id": "7a9fcaf3-c2a9-4a34-a0c4-7929d3b251c9",
   "metadata": {},
   "outputs": [],
   "source": [
    "trainingdata = SVHN(root = \"./data\", split=\"train\", download = True,transform = normalizesvhn)\n",
    "testdata = SVHN(root = \"./data\", split=\"test\", download = True, transform = normalizesvhn)"
   ]
  },
  {
   "cell_type": "code",
   "execution_count": 7,
   "id": "76948ce6-4e56-4cca-a889-b89bdd734f34",
   "metadata": {},
   "outputs": [],
   "source": [
    "training = DataLoader(trainingdata, batch_size = 160, shuffle = True)\n",
    "test = DataLoader(testdata, batch_size = 40, shuffle = False)"
   ]
  },
  {
   "cell_type": "markdown",
   "id": "213c44f3-9640-48eb-b883-98922ef77eab",
   "metadata": {},
   "source": [
    "How to look at a tensor"
   ]
  },
  {
   "cell_type": "code",
   "execution_count": 9,
   "id": "2f3b9bd0-2ae2-4543-b644-f528c9f037d0",
   "metadata": {},
   "outputs": [
    {
     "name": "stdout",
     "output_type": "stream",
     "text": [
      "Tensor Values tensor([[[[ 0.3490,  0.3098,  0.2863,  ...,  0.3176,  0.3333,  0.3255],\n",
      "          [ 0.3412,  0.2941,  0.2706,  ...,  0.2941,  0.2941,  0.2941],\n",
      "          [ 0.3255,  0.2784,  0.2941,  ..., -0.0980,  0.1922,  0.2627],\n",
      "          ...,\n",
      "          [ 0.2706,  0.2627,  0.2549,  ...,  0.0039,  0.2157,  0.2471],\n",
      "          [ 0.3176,  0.2863,  0.2627,  ...,  0.0275,  0.2549,  0.2784],\n",
      "          [ 0.2784,  0.2706,  0.2627,  ...,  0.0980,  0.2549,  0.2784]],\n",
      "\n",
      "         [[ 0.3176,  0.2863,  0.2941,  ...,  0.3020,  0.3020,  0.3255],\n",
      "          [ 0.3176,  0.3020,  0.3020,  ...,  0.2392,  0.2392,  0.2784],\n",
      "          [ 0.3020,  0.2784,  0.2706,  ..., -0.0510,  0.2000,  0.2706],\n",
      "          ...,\n",
      "          [ 0.2314,  0.2235,  0.2235,  ...,  0.0039,  0.1765,  0.2157],\n",
      "          [ 0.2706,  0.2627,  0.2549,  ..., -0.0039,  0.1843,  0.2235],\n",
      "          [ 0.2471,  0.2549,  0.2471,  ...,  0.0510,  0.1922,  0.2392]],\n",
      "\n",
      "         [[ 0.2235,  0.2078,  0.1686,  ...,  0.1922,  0.1765,  0.2157],\n",
      "          [ 0.1922,  0.1686,  0.1608,  ...,  0.1373,  0.1451,  0.2000],\n",
      "          [ 0.1922,  0.1451,  0.1608,  ..., -0.1216,  0.0510,  0.1294],\n",
      "          ...,\n",
      "          [ 0.1451,  0.1922,  0.1529,  ..., -0.0824,  0.0588,  0.0824],\n",
      "          [ 0.1843,  0.1765,  0.1373,  ..., -0.0353,  0.1059,  0.1373],\n",
      "          [ 0.1765,  0.1373,  0.1451,  ...,  0.0039,  0.1294,  0.1294]]],\n",
      "\n",
      "\n",
      "        [[[-0.2627, -0.3176, -0.1843,  ..., -0.0980, -0.0353,  0.0275],\n",
      "          [-0.2627, -0.3255, -0.2000,  ..., -0.1216, -0.0667,  0.0039],\n",
      "          [-0.2627, -0.3412, -0.2235,  ..., -0.1216, -0.0824, -0.0118],\n",
      "          ...,\n",
      "          [-0.4980, -0.3569, -0.1294,  ..., -0.0980, -0.0745, -0.0118],\n",
      "          [-0.4902, -0.3804, -0.1451,  ..., -0.0824, -0.0745,  0.0039],\n",
      "          [-0.4824, -0.3804, -0.1373,  ..., -0.0588, -0.0588,  0.0118]],\n",
      "\n",
      "         [[-0.2471, -0.2863, -0.1373,  ..., -0.1686, -0.1373, -0.0980],\n",
      "          [-0.2392, -0.2941, -0.1529,  ..., -0.1843, -0.1608, -0.1216],\n",
      "          [-0.2235, -0.3020, -0.1686,  ..., -0.1843, -0.1686, -0.1373],\n",
      "          ...,\n",
      "          [-0.4275, -0.2706, -0.0275,  ..., -0.2157, -0.2314, -0.1922],\n",
      "          [-0.4039, -0.2706, -0.0118,  ..., -0.1922, -0.2078, -0.1765],\n",
      "          [-0.4118, -0.2784, -0.0118,  ..., -0.1686, -0.2000, -0.1608]],\n",
      "\n",
      "         [[-0.1922, -0.2000, -0.0510,  ..., -0.2000, -0.1765, -0.1686],\n",
      "          [-0.1686, -0.1843, -0.0431,  ..., -0.2000, -0.1843, -0.1843],\n",
      "          [-0.1451, -0.1765, -0.0431,  ..., -0.2157, -0.2157, -0.2078],\n",
      "          ...,\n",
      "          [-0.3333, -0.1608,  0.0667,  ..., -0.2471, -0.3176, -0.3176],\n",
      "          [-0.3255, -0.1843,  0.0588,  ..., -0.2549, -0.3333, -0.3176],\n",
      "          [-0.3255, -0.1765,  0.0824,  ..., -0.2314, -0.3176, -0.3020]]],\n",
      "\n",
      "\n",
      "        [[[-0.0196,  0.0039,  0.0510,  ..., -0.0039,  0.0353,  0.0745],\n",
      "          [-0.0902, -0.2000, -0.1451,  ..., -0.0667, -0.0118,  0.0431],\n",
      "          [-0.2235, -0.3412, -0.3255,  ..., -0.1137, -0.0588,  0.0039],\n",
      "          ...,\n",
      "          [-0.0824, -0.3647, -0.5765,  ..., -0.0353, -0.0275, -0.0118],\n",
      "          [-0.4745, -0.5529, -0.5373,  ..., -0.0980, -0.1059, -0.1059],\n",
      "          [-0.5765, -0.5608, -0.5451,  ..., -0.1294, -0.1373, -0.0980]],\n",
      "\n",
      "         [[-0.1137, -0.0824, -0.0353,  ..., -0.1216, -0.0667, -0.0039],\n",
      "          [-0.2000, -0.2941, -0.2392,  ..., -0.1843, -0.1137, -0.0353],\n",
      "          [-0.3412, -0.4588, -0.4196,  ..., -0.2471, -0.1765, -0.0902],\n",
      "          ...,\n",
      "          [-0.1059, -0.4118, -0.6471,  ..., -0.1686, -0.1529, -0.1137],\n",
      "          [-0.5216, -0.6157, -0.6157,  ..., -0.2392, -0.2157, -0.2000],\n",
      "          [-0.6471, -0.6392, -0.6471,  ..., -0.2706, -0.2471, -0.1922]],\n",
      "\n",
      "         [[-0.1137, -0.0980, -0.0510,  ..., -0.1451, -0.1137, -0.0745],\n",
      "          [-0.2000, -0.2941, -0.2392,  ..., -0.2078, -0.1608, -0.1059],\n",
      "          [-0.3255, -0.4353, -0.4039,  ..., -0.2627, -0.2157, -0.1529],\n",
      "          ...,\n",
      "          [ 0.2078, -0.0745, -0.2471,  ..., -0.2235, -0.2314, -0.2392],\n",
      "          [-0.1686, -0.2314, -0.2000,  ..., -0.2706, -0.3020, -0.3255],\n",
      "          [-0.2784, -0.2471, -0.2314,  ..., -0.3020, -0.3176, -0.3020]]],\n",
      "\n",
      "\n",
      "        [[[-0.1686, -0.1294, -0.1137,  ..., -0.2314, -0.2314, -0.2471],\n",
      "          [-0.1451, -0.1216, -0.1059,  ..., -0.6314, -0.6392, -0.7176],\n",
      "          [-0.1373, -0.1059, -0.0824,  ..., -0.9294, -0.9373, -0.9765],\n",
      "          ...,\n",
      "          [ 0.0196,  0.0353,  0.0353,  ..., -0.7255, -0.7333, -0.7882],\n",
      "          [ 0.0039,  0.0196,  0.0275,  ..., -0.3569, -0.3725, -0.3569],\n",
      "          [-0.0196,  0.0118,  0.0275,  ..., -0.0824, -0.0980, -0.0745]],\n",
      "\n",
      "         [[-0.1843, -0.1294, -0.0980,  ..., -0.1922, -0.1843, -0.1922],\n",
      "          [-0.1529, -0.1059, -0.0745,  ..., -0.5922, -0.6078, -0.6784],\n",
      "          [-0.1373, -0.0902, -0.0353,  ..., -0.9059, -0.9137, -0.9529],\n",
      "          ...,\n",
      "          [ 0.0824,  0.1137,  0.1216,  ..., -0.6235, -0.6392, -0.6941],\n",
      "          [ 0.0745,  0.0980,  0.1059,  ..., -0.2549, -0.2706, -0.2549],\n",
      "          [ 0.0431,  0.0824,  0.1137,  ..., -0.0039, -0.0196, -0.0039]],\n",
      "\n",
      "         [[-0.1451, -0.0980, -0.0667,  ..., -0.0667, -0.0431, -0.0588],\n",
      "          [-0.1137, -0.0745, -0.0431,  ..., -0.3961, -0.3647, -0.4039],\n",
      "          [-0.0980, -0.0510, -0.0039,  ..., -0.6392, -0.6157, -0.6000],\n",
      "          ...,\n",
      "          [ 0.1059,  0.1294,  0.1373,  ..., -0.4902, -0.4980, -0.5216],\n",
      "          [ 0.0980,  0.1137,  0.1216,  ..., -0.1529, -0.1686, -0.1451],\n",
      "          [ 0.0667,  0.0980,  0.1294,  ...,  0.0745,  0.0588,  0.0667]]],\n",
      "\n",
      "\n",
      "        [[[ 0.7255,  0.8353,  0.8039,  ..., -0.4980, -0.4824, -0.4667],\n",
      "          [ 0.7961,  0.8431,  0.8118,  ..., -0.6706, -0.6471, -0.6314],\n",
      "          [ 0.8039,  0.8353,  0.8275,  ..., -0.7098, -0.6941, -0.6863],\n",
      "          ...,\n",
      "          [ 0.7647,  0.8510,  0.6549,  ...,  0.8588,  0.9137,  0.9373],\n",
      "          [ 0.7333,  0.7961,  0.6314,  ...,  0.2000,  0.2863,  0.3647],\n",
      "          [ 0.6863,  0.8039,  0.7882,  ..., -0.0431, -0.0431, -0.0275]],\n",
      "\n",
      "         [[ 0.7020,  0.8353,  0.8118,  ..., -0.4118, -0.4039, -0.3882],\n",
      "          [ 0.7804,  0.8588,  0.8275,  ..., -0.5529, -0.5529, -0.5529],\n",
      "          [ 0.7882,  0.8588,  0.8275,  ..., -0.5765, -0.6000, -0.6314],\n",
      "          ...,\n",
      "          [ 0.7961,  0.8980,  0.7647,  ...,  0.9294,  0.9608,  0.9922],\n",
      "          [ 0.7490,  0.8353,  0.7412,  ...,  0.3647,  0.4353,  0.5373],\n",
      "          [ 0.6941,  0.8353,  0.8745,  ...,  0.1686,  0.1843,  0.2078]],\n",
      "\n",
      "         [[ 0.6314,  0.7020,  0.6706,  ..., -0.3647, -0.3882, -0.3882],\n",
      "          [ 0.6863,  0.7490,  0.7412,  ..., -0.4510, -0.4667, -0.4667],\n",
      "          [ 0.6784,  0.7725,  0.7725,  ..., -0.4431, -0.4510, -0.4588],\n",
      "          ...,\n",
      "          [ 0.7176,  0.8431,  0.8353,  ...,  0.9765,  0.9922,  0.9922],\n",
      "          [ 0.6784,  0.7647,  0.7804,  ...,  0.6235,  0.7098,  0.7804],\n",
      "          [ 0.6471,  0.7647,  0.8275,  ...,  0.5451,  0.5843,  0.6314]]]])\n"
     ]
    }
   ],
   "source": [
    "trainingtensor = iter(training)\n",
    "images, labels= next(trainingtensor)\n",
    "\n",
    "print(\"Tensor Values\", images[:5])\n"
   ]
  },
  {
   "cell_type": "code",
   "execution_count": 11,
   "id": "ad5fe64e-bd68-4bc0-893f-6288b5a16b7b",
   "metadata": {},
   "outputs": [
    {
     "name": "stdout",
     "output_type": "stream",
     "text": [
      "Shape of first 5 Images: torch.Size([5, 3, 32, 32])\n",
      "Shape of first 5 Labels: torch.Size([5])\n"
     ]
    }
   ],
   "source": [
    "print(\"Shape of first 5 Images:\", images[:5].shape)\n",
    "print(\"Shape of first 5 Labels:\", labels[:5].shape)"
   ]
  },
  {
   "cell_type": "markdown",
   "id": "67fe8132-10d4-440f-8274-33ed01a290ed",
   "metadata": {},
   "source": [
    "These numbers don't look like a picture, how could we see the actual image?\n"
   ]
  },
  {
   "cell_type": "code",
   "execution_count": 13,
   "id": "aa2a7448-eb09-4c36-8ec8-832b889069db",
   "metadata": {},
   "outputs": [
    {
     "data": {
      "text/plain": [
       "<matplotlib.image.AxesImage at 0x1562e3a9c40>"
      ]
     },
     "execution_count": 13,
     "metadata": {},
     "output_type": "execute_result"
    },
    {
     "data": {
      "image/png": "[encoded data removed]",
      "text/plain": [
       "<Figure size 640x480 with 1 Axes>"
      ]
     },
     "metadata": {},
     "output_type": "display_data"
    }
   ],
   "source": [
    "picture = images[2]\n",
    "picture = picture.permute(1,2,0)\n",
    "picture = picture * .5 + .5\n",
    "plt.imshow(picture)\n",
    "\n"
   ]
  },
  {
   "cell_type": "code",
   "execution_count": 15,
   "id": "de4511b6-36e6-4b51-aa36-bc6cc911e363",
   "metadata": {},
   "outputs": [
    {
     "data": {
      "image/png": "[encoded data removed]",
      "text/plain": [
       "<Figure size 640x480 with 1 Axes>"
      ]
     },
     "metadata": {},
     "output_type": "display_data"
    }
   ],
   "source": [
    "plt.imshow(picture)\n",
    "plt.title(labels[2].item());"
   ]
  },
  {
   "cell_type": "code",
   "execution_count": 19,
   "id": "b3042e6a-eb31-4df9-af0e-4d7c8ab910c1",
   "metadata": {},
   "outputs": [
    {
     "name": "stderr",
     "output_type": "stream",
     "text": [
      "Clipping input data to the valid range for imshow with RGB data ([0..1] for floats or [0..255] for integers). Got range [-0.81960785..1.0].\n"
     ]
    },
    {
     "data": {
      "text/plain": [
       "<matplotlib.image.AxesImage at 0x15641b71880>"
      ]
     },
     "execution_count": 19,
     "metadata": {},
     "output_type": "execute_result"
    },
    {
     "data": {
      "image/png": "[encoded data removed]",
      "text/plain": [
       "<Figure size 640x480 with 1 Axes>"
      ]
     },
     "metadata": {},
     "output_type": "display_data"
    }
   ],
   "source": [
    "picture = images[2]\n",
    "picture = picture.permute(1,2,0)\n",
    "picture = picture \n",
    "plt.imshow(picture)"
   ]
  },
  {
   "cell_type": "code",
   "execution_count": 21,
   "id": "8a9c9afc-a2be-468a-845b-7ce43d8d5ed6",
   "metadata": {},
   "outputs": [],
   "source": [
    "class digits(torch.nn.Module):\n",
    "    def __init__(self):\n",
    "        super(digits, self).__init__()\n",
    "        self.conv = torch.nn.Sequential(\n",
    "        torch.nn.Conv2d(in_channels = 3, out_channels = 32, kernel_size = 3,stride = 1 , padding = 1),\n",
    "        torch.nn.ReLU(),\n",
    "        torch.nn.MaxPool2d(kernel_size = 2, stride = 2)\n",
    "        )\n",
    "        self.fc = torch.nn.Sequential(torch.nn.Linear(32 * 16 * 16, 128), torch.nn.ReLU(), torch.nn.Linear(128,10))\n",
    "        \n",
    "    def forward(self,x):\n",
    "        x = self.conv(x)\n",
    "        x = x.view(x.size(0),-1)\n",
    "        x = self.fc(x)\n",
    "        return x"
   ]
  },
  {
   "cell_type": "code",
   "execution_count": 23,
   "id": "858f037d-1c23-48d1-ae50-0b0e7f45ed4b",
   "metadata": {},
   "outputs": [],
   "source": [
    "model = digits()"
   ]
  },
  {
   "cell_type": "code",
   "execution_count": 25,
   "id": "be761b00-33cc-491f-a989-406529e919fc",
   "metadata": {},
   "outputs": [],
   "source": [
    "optimizer = optim.Adam(model.parameters(), lr=0.001)\n",
    "criterion = torch.nn.CrossEntropyLoss()"
   ]
  },
  {
   "cell_type": "code",
   "execution_count": 27,
   "id": "fbac8326-08e6-4893-a1fb-e9a3615786dd",
   "metadata": {},
   "outputs": [
    {
     "name": "stdout",
     "output_type": "stream",
     "text": [
      "Loss: 0.6254795122745256\n"
     ]
    }
   ],
   "source": [
    "numberofpasses = 2 #Update in final code to higher number\n",
    "\n",
    "for passes in range(numberofpasses):\n",
    "    model.train()\n",
    "    total_loss = 0\n",
    "\n",
    "    for inputs, labels in training:\n",
    "        optimizer.zero_grad()\n",
    "        outputs = model(inputs)\n",
    "        loss = criterion(outputs, labels)\n",
    "        loss.backward()\n",
    "        optimizer.step()\n",
    "        total_loss += loss.item()\n",
    "\n",
    "print(f\"Loss: {total_loss/len(training)}\")  \n"
   ]
  },
  {
   "cell_type": "markdown",
   "id": "643934e0-5f25-41b3-bcfd-fb5230a00685",
   "metadata": {},
   "source": [
    "Evaluation"
   ]
  },
  {
   "cell_type": "code",
   "execution_count": 29,
   "id": "ff9d6b34-41a6-4f15-bece-bfa64fa4ddf5",
   "metadata": {},
   "outputs": [
    {
     "name": "stdout",
     "output_type": "stream",
     "text": [
      "Correctly Predicited: 81.39%\n"
     ]
    }
   ],
   "source": [
    "model.eval()\n",
    "\n",
    "correctpredictions = 0\n",
    "totals = 0\n",
    "\n",
    "with torch.no_grad():\n",
    "    for images, labels in test:\n",
    "        output = model(images)\n",
    "        _,predicted = torch.max(output,1)\n",
    "        totals += labels.size(0)\n",
    "        correctpredictions += (predicted == labels).sum().item()\n",
    "\n",
    "print(f\"Correctly Predicted: {(correctpredictions/totals)*100:.2f}%\")\n",
    "\n"
   ]
  },
  {
   "cell_type": "markdown",
   "id": "bbcb9760-5031-4496-b685-03e634eb367f",
   "metadata": {},
   "source": [
    "let's see some examples of what we predicted and what we should've seen"
   ]
  },
  {
   "cell_type": "code",
   "execution_count": 37,
   "id": "9f300db6-2f91-41f6-92a6-27a8ea4a8b66",
   "metadata": {},
   "outputs": [
    {
     "name": "stdout",
     "output_type": "stream",
     "text": [
      "Dataset Label: 5 and Prediction: predictions: 5\n",
      "Dataset Label: 2 and Prediction: predictions: 2\n",
      "Dataset Label: 1 and Prediction: predictions: 1\n",
      "Dataset Label: 0 and Prediction: predictions: 6\n",
      "Dataset Label: 6 and Prediction: predictions: 6\n",
      "Dataset Label: 1 and Prediction: predictions: 1\n",
      "Dataset Label: 9 and Prediction: predictions: 9\n",
      "Dataset Label: 1 and Prediction: predictions: 1\n",
      "Dataset Label: 1 and Prediction: predictions: 1\n",
      "Dataset Label: 8 and Prediction: predictions: 8\n",
      "Dataset Label: 3 and Prediction: predictions: 9\n",
      "Dataset Label: 6 and Prediction: predictions: 8\n",
      "Dataset Label: 5 and Prediction: predictions: 5\n",
      "Dataset Label: 1 and Prediction: predictions: 1\n",
      "Dataset Label: 4 and Prediction: predictions: 4\n",
      "Dataset Label: 4 and Prediction: predictions: 4\n",
      "Dataset Label: 1 and Prediction: predictions: 1\n",
      "Dataset Label: 6 and Prediction: predictions: 6\n",
      "Dataset Label: 3 and Prediction: predictions: 3\n",
      "Dataset Label: 4 and Prediction: predictions: 4\n"
     ]
    }
   ],
   "source": [
    "images, labels = next(iter(test))\n",
    "visualization = model(images)\n",
    "_, predictions = torch.max(visualization, 1)\n",
    "\n",
    "for loop in range(20):\n",
    "    print(f\"Dataset Label: {labels[loop].item()} and Prediction: predictions: {predictions[loop].item()}\")"
   ]
  },
  {
   "cell_type": "code",
   "execution_count": 47,
   "id": "81e7d834-5a54-4dd8-848a-3809206c118c",
   "metadata": {},
   "outputs": [
    {
     "data": {
      "text/plain": [
       "<matplotlib.image.AxesImage at 0x156425255b0>"
      ]
     },
     "execution_count": 47,
     "metadata": {},
     "output_type": "execute_result"
    },
    {
     "data": {
      "image/png": "[encoded data removed]",
      "text/plain": [
       "<Figure size 640x480 with 1 Axes>"
      ]
     },
     "metadata": {},
     "output_type": "display_data"
    }
   ],
   "source": [
    "testimages, testlabels = next(iter(test))\n",
    "plt.imshow(testimages[11].permute(1, 2, 0)* .5 + .5)\n"
   ]
  },
  {
   "cell_type": "code",
   "execution_count": 49,
   "id": "0130dea9-3c75-44fb-ad46-0e831a786708",
   "metadata": {},
   "outputs": [
    {
     "name": "stdout",
     "output_type": "stream",
     "text": [
      "6\n"
     ]
    }
   ],
   "source": [
    "print(testlabels[11].item())"
   ]
  }
 ],
 "metadata": {
  "kernelspec": {
   "display_name": "Python 3 (ipykernel)",
   "language": "python",
   "name": "python3"
  },
  "language_info": {
   "codemirror_mode": {
    "name": "ipython",
    "version": 3
   },
   "file_extension": ".py",
   "mimetype": "text/x-python",
   "name": "python",
   "nbconvert_exporter": "python",
   "pygments_lexer": "ipython3",
   "version": "3.12.7"
  }
 },
 "nbformat": 4,
 "nbformat_minor": 5
}
